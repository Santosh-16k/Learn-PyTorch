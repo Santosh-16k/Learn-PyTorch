{
  "nbformat": 4,
  "nbformat_minor": 0,
  "metadata": {
    "colab": {
      "name": "60-minute-blitz.ipynb",
      "provenance": [],
      "include_colab_link": true
    },
    "kernelspec": {
      "name": "python3",
      "display_name": "Python 3"
    },
    "accelerator": "GPU"
  },
  "cells": [
    {
      "cell_type": "markdown",
      "metadata": {
        "id": "view-in-github",
        "colab_type": "text"
      },
      "source": [
        "<a href=\"https://colab.research.google.com/github/Santosh-16k/Learn-PyTorch/blob/master/60_minute_blitz.ipynb\" target=\"_parent\"><img src=\"https://colab.research.google.com/assets/colab-badge.svg\" alt=\"Open In Colab\"/></a>"
      ]
    },
    {
      "cell_type": "markdown",
      "metadata": {
        "id": "Ne5OeNg9VVAz",
        "colab_type": "text"
      },
      "source": [
        "Importing the required modules"
      ]
    },
    {
      "cell_type": "code",
      "metadata": {
        "id": "O9dhv0ReUJbe",
        "colab_type": "code",
        "colab": {}
      },
      "source": [
        "import torch\n",
        "import torchvision"
      ],
      "execution_count": 0,
      "outputs": []
    },
    {
      "cell_type": "markdown",
      "metadata": {
        "id": "Y5qBpLMSVcsl",
        "colab_type": "text"
      },
      "source": [
        "Creating an empty tensor"
      ]
    },
    {
      "cell_type": "code",
      "metadata": {
        "id": "s5g_U0d9USCP",
        "colab_type": "code",
        "outputId": "5c4329f8-8b7d-40f3-ed14-d44953a59013",
        "colab": {
          "base_uri": "https://localhost:8080/",
          "height": 102
        }
      },
      "source": [
        "x = torch.empty(5,3)\n",
        "print(x)"
      ],
      "execution_count": 25,
      "outputs": [
        {
          "output_type": "stream",
          "text": [
            "tensor([[4.4678e-01, 0.0000e+00, 4.4842e-44],\n",
            "        [0.0000e+00,        nan, 2.2136e+20],\n",
            "        [4.1731e+21, 4.3249e-05, 2.0920e+23],\n",
            "        [4.1763e+21, 2.6080e-09, 1.0579e+21],\n",
            "        [4.3437e-05, 1.3400e-08, 2.0674e+22]])\n"
          ],
          "name": "stdout"
        }
      ]
    },
    {
      "cell_type": "markdown",
      "metadata": {
        "id": "tSiRuE4AVgDY",
        "colab_type": "text"
      },
      "source": [
        "Creating a randomly initialized matrix"
      ]
    },
    {
      "cell_type": "code",
      "metadata": {
        "id": "AcAzFp8vVMrc",
        "colab_type": "code",
        "outputId": "43878786-2ce1-4d0b-d17d-d949fdf0722d",
        "colab": {
          "base_uri": "https://localhost:8080/",
          "height": 102
        }
      },
      "source": [
        "x = torch.rand(5,3)\n",
        "print(x)"
      ],
      "execution_count": 26,
      "outputs": [
        {
          "output_type": "stream",
          "text": [
            "tensor([[0.3349, 0.1229, 0.0335],\n",
            "        [0.0549, 0.3773, 0.7390],\n",
            "        [0.5463, 0.0443, 0.4052],\n",
            "        [0.4377, 0.2410, 0.6738],\n",
            "        [0.6720, 0.2400, 0.5273]])\n"
          ],
          "name": "stdout"
        }
      ]
    },
    {
      "cell_type": "markdown",
      "metadata": {
        "id": "1cKGGsQYVmAe",
        "colab_type": "text"
      },
      "source": [
        "Creating a matrix filled with zeros with a specific data type (dtype) *long*"
      ]
    },
    {
      "cell_type": "code",
      "metadata": {
        "id": "_Rc5BlcYVRYD",
        "colab_type": "code",
        "outputId": "e0893a22-2d44-4094-c50c-362ce9d6ea98",
        "colab": {
          "base_uri": "https://localhost:8080/",
          "height": 102
        }
      },
      "source": [
        "x = torch.zeros(5, 3, dtype=torch.long)\n",
        "print(x)"
      ],
      "execution_count": 27,
      "outputs": [
        {
          "output_type": "stream",
          "text": [
            "tensor([[0, 0, 0],\n",
            "        [0, 0, 0],\n",
            "        [0, 0, 0],\n",
            "        [0, 0, 0],\n",
            "        [0, 0, 0]])\n"
          ],
          "name": "stdout"
        }
      ]
    },
    {
      "cell_type": "markdown",
      "metadata": {
        "id": "tI2Gwb6MV62O",
        "colab_type": "text"
      },
      "source": [
        "Creating a tensor from data"
      ]
    },
    {
      "cell_type": "code",
      "metadata": {
        "id": "JSkWlhTnV3zT",
        "colab_type": "code",
        "outputId": "2044f8b4-1d8e-4d14-d6cd-8f7eecec705f",
        "colab": {
          "base_uri": "https://localhost:8080/",
          "height": 34
        }
      },
      "source": [
        "x = torch.tensor([2, 3.5, 9])\n",
        "print(x)"
      ],
      "execution_count": 28,
      "outputs": [
        {
          "output_type": "stream",
          "text": [
            "tensor([2.0000, 3.5000, 9.0000])\n"
          ],
          "name": "stdout"
        }
      ]
    },
    {
      "cell_type": "markdown",
      "metadata": {
        "id": "A86h5R8OWTmc",
        "colab_type": "text"
      },
      "source": [
        "Create tensor based on existing tensor"
      ]
    },
    {
      "cell_type": "code",
      "metadata": {
        "id": "oh-2oozvWFDJ",
        "colab_type": "code",
        "outputId": "cdc7ecb6-1532-45ec-947a-8b0d6ee42023",
        "colab": {
          "base_uri": "https://localhost:8080/",
          "height": 187
        }
      },
      "source": [
        "x = x.new_ones(5, 3, dtype=torch.double)\n",
        "print(x)\n",
        "\n",
        "x = torch.randn_like(x, dtype=torch.float)\n",
        "print(x)"
      ],
      "execution_count": 29,
      "outputs": [
        {
          "output_type": "stream",
          "text": [
            "tensor([[1., 1., 1.],\n",
            "        [1., 1., 1.],\n",
            "        [1., 1., 1.],\n",
            "        [1., 1., 1.],\n",
            "        [1., 1., 1.]], dtype=torch.float64)\n",
            "tensor([[ 0.3305,  0.4689,  0.8419],\n",
            "        [ 0.7282,  0.1106,  0.8578],\n",
            "        [-0.2218, -0.7418, -1.8063],\n",
            "        [ 1.5172,  1.5195, -0.7481],\n",
            "        [-0.3181, -1.5961,  0.0090]])\n"
          ],
          "name": "stdout"
        }
      ]
    },
    {
      "cell_type": "markdown",
      "metadata": {
        "id": "3WGotWmFWmuA",
        "colab_type": "text"
      },
      "source": [
        "Obtain tensor size"
      ]
    },
    {
      "cell_type": "code",
      "metadata": {
        "id": "p_E0FaQRWocR",
        "colab_type": "code",
        "outputId": "bab643fa-40db-4163-b28e-617ed3b50719",
        "colab": {
          "base_uri": "https://localhost:8080/",
          "height": 34
        }
      },
      "source": [
        "print(x.size())"
      ],
      "execution_count": 30,
      "outputs": [
        {
          "output_type": "stream",
          "text": [
            "torch.Size([5, 3])\n"
          ],
          "name": "stdout"
        }
      ]
    },
    {
      "cell_type": "markdown",
      "metadata": {
        "id": "Oo4D_OcFW1td",
        "colab_type": "text"
      },
      "source": [
        "# Operations"
      ]
    },
    {
      "cell_type": "markdown",
      "metadata": {
        "id": "kUo1DQazW6Pm",
        "colab_type": "text"
      },
      "source": [
        "Addition"
      ]
    },
    {
      "cell_type": "code",
      "metadata": {
        "id": "kQw27zFGW5JU",
        "colab_type": "code",
        "outputId": "ecb6ada2-bb26-46af-bd02-37f1987e9952",
        "colab": {
          "base_uri": "https://localhost:8080/",
          "height": 102
        }
      },
      "source": [
        "y = torch.rand(5,3)\n",
        "print(x + y)"
      ],
      "execution_count": 31,
      "outputs": [
        {
          "output_type": "stream",
          "text": [
            "tensor([[ 0.7555,  1.4271,  1.3042],\n",
            "        [ 0.7322,  0.9548,  1.5212],\n",
            "        [ 0.6084,  0.2486, -1.4500],\n",
            "        [ 1.7827,  2.2453, -0.2774],\n",
            "        [ 0.1281, -0.9357,  0.4188]])\n"
          ],
          "name": "stdout"
        }
      ]
    },
    {
      "cell_type": "markdown",
      "metadata": {
        "id": "wny5swCTW6mh",
        "colab_type": "text"
      },
      "source": [
        "Or another syntax for addition"
      ]
    },
    {
      "cell_type": "code",
      "metadata": {
        "id": "IRXVDypwXLeg",
        "colab_type": "code",
        "outputId": "c918f5d8-902d-475c-a560-9c6ab67826f1",
        "colab": {
          "base_uri": "https://localhost:8080/",
          "height": 102
        }
      },
      "source": [
        "print(torch.add(x, y))"
      ],
      "execution_count": 32,
      "outputs": [
        {
          "output_type": "stream",
          "text": [
            "tensor([[ 0.7555,  1.4271,  1.3042],\n",
            "        [ 0.7322,  0.9548,  1.5212],\n",
            "        [ 0.6084,  0.2486, -1.4500],\n",
            "        [ 1.7827,  2.2453, -0.2774],\n",
            "        [ 0.1281, -0.9357,  0.4188]])\n"
          ],
          "name": "stdout"
        }
      ]
    },
    {
      "cell_type": "markdown",
      "metadata": {
        "id": "HLu0PRjCW60t",
        "colab_type": "text"
      },
      "source": [
        "If you need output in a variable"
      ]
    },
    {
      "cell_type": "code",
      "metadata": {
        "id": "ahWtptrNZ9y9",
        "colab_type": "code",
        "outputId": "1fabc3d4-7575-4f9b-d39e-d2e3d2f86bd8",
        "colab": {
          "base_uri": "https://localhost:8080/",
          "height": 102
        }
      },
      "source": [
        "result = torch.empty(5, 3)\n",
        "torch.add(x,y, out=result)\n",
        "print(result)"
      ],
      "execution_count": 33,
      "outputs": [
        {
          "output_type": "stream",
          "text": [
            "tensor([[ 0.7555,  1.4271,  1.3042],\n",
            "        [ 0.7322,  0.9548,  1.5212],\n",
            "        [ 0.6084,  0.2486, -1.4500],\n",
            "        [ 1.7827,  2.2453, -0.2774],\n",
            "        [ 0.1281, -0.9357,  0.4188]])\n"
          ],
          "name": "stdout"
        }
      ]
    },
    {
      "cell_type": "markdown",
      "metadata": {
        "id": "IaE5fMw8aJG7",
        "colab_type": "text"
      },
      "source": [
        "For inplace addition"
      ]
    },
    {
      "cell_type": "code",
      "metadata": {
        "id": "qXShBlzCaHuy",
        "colab_type": "code",
        "outputId": "8e6b3439-e9df-4654-9fdc-2d4f83fc9836",
        "colab": {
          "base_uri": "https://localhost:8080/",
          "height": 102
        }
      },
      "source": [
        "y.add_(x)\n",
        "print(y)"
      ],
      "execution_count": 34,
      "outputs": [
        {
          "output_type": "stream",
          "text": [
            "tensor([[ 0.7555,  1.4271,  1.3042],\n",
            "        [ 0.7322,  0.9548,  1.5212],\n",
            "        [ 0.6084,  0.2486, -1.4500],\n",
            "        [ 1.7827,  2.2453, -0.2774],\n",
            "        [ 0.1281, -0.9357,  0.4188]])\n"
          ],
          "name": "stdout"
        }
      ]
    },
    {
      "cell_type": "markdown",
      "metadata": {
        "id": "njncDzCnaaUX",
        "colab_type": "text"
      },
      "source": [
        "Resize a tensor"
      ]
    },
    {
      "cell_type": "code",
      "metadata": {
        "id": "rgMojd2Jagoo",
        "colab_type": "code",
        "outputId": "1b112e89-dd4b-4b45-a4ec-a168dcb461be",
        "colab": {
          "base_uri": "https://localhost:8080/",
          "height": 34
        }
      },
      "source": [
        "x = torch.rand(4, 4)\n",
        "y = x.view(16)\n",
        "z = x.view(-1, 8)\n",
        "print(x.size(), y.size(), z.size())"
      ],
      "execution_count": 35,
      "outputs": [
        {
          "output_type": "stream",
          "text": [
            "torch.Size([4, 4]) torch.Size([16]) torch.Size([2, 8])\n"
          ],
          "name": "stdout"
        }
      ]
    },
    {
      "cell_type": "markdown",
      "metadata": {
        "id": "KjIbmXYjayI5",
        "colab_type": "text"
      },
      "source": [
        "Use `.item()` for a single element tensor to get value as python number"
      ]
    },
    {
      "cell_type": "code",
      "metadata": {
        "id": "3ov79vX1a8uo",
        "colab_type": "code",
        "outputId": "b68beee2-ab8c-40f9-bb33-641bf1953316",
        "colab": {
          "base_uri": "https://localhost:8080/",
          "height": 51
        }
      },
      "source": [
        "x = torch.randn(1)\n",
        "print(x)\n",
        "print(x.item())"
      ],
      "execution_count": 36,
      "outputs": [
        {
          "output_type": "stream",
          "text": [
            "tensor([0.4693])\n",
            "0.46930786967277527\n"
          ],
          "name": "stdout"
        }
      ]
    },
    {
      "cell_type": "markdown",
      "metadata": {
        "id": "DtnVbw5xkDXk",
        "colab_type": "text"
      },
      "source": [
        "# NumPy Bridge"
      ]
    },
    {
      "cell_type": "markdown",
      "metadata": {
        "id": "ouAEP8Zzk5sU",
        "colab_type": "text"
      },
      "source": [
        "Even after conversion from torch tensor to numpy, the data is shared. Changing one will change the other"
      ]
    },
    {
      "cell_type": "code",
      "metadata": {
        "id": "vH5fDAx-bAls",
        "colab_type": "code",
        "outputId": "3c1941a7-718d-4b59-da37-c6eee6ac0d5c",
        "colab": {
          "base_uri": "https://localhost:8080/",
          "height": 34
        }
      },
      "source": [
        "a = torch.ones(5)\n",
        "print(a)"
      ],
      "execution_count": 37,
      "outputs": [
        {
          "output_type": "stream",
          "text": [
            "tensor([1., 1., 1., 1., 1.])\n"
          ],
          "name": "stdout"
        }
      ]
    },
    {
      "cell_type": "code",
      "metadata": {
        "id": "43p99zqUlGdD",
        "colab_type": "code",
        "outputId": "ea2f2e49-4cbf-44ae-c939-fdb030031b4b",
        "colab": {
          "base_uri": "https://localhost:8080/",
          "height": 34
        }
      },
      "source": [
        "b = a.numpy()\n",
        "print(b)"
      ],
      "execution_count": 38,
      "outputs": [
        {
          "output_type": "stream",
          "text": [
            "[1. 1. 1. 1. 1.]\n"
          ],
          "name": "stdout"
        }
      ]
    },
    {
      "cell_type": "code",
      "metadata": {
        "id": "38wzHrYnlJTv",
        "colab_type": "code",
        "outputId": "4f8e3c9a-ef97-43b9-b18b-d7e0102e8888",
        "colab": {
          "base_uri": "https://localhost:8080/",
          "height": 51
        }
      },
      "source": [
        "a.add_(1)\n",
        "print(a)\n",
        "print(b)"
      ],
      "execution_count": 39,
      "outputs": [
        {
          "output_type": "stream",
          "text": [
            "tensor([2., 2., 2., 2., 2.])\n",
            "[2. 2. 2. 2. 2.]\n"
          ],
          "name": "stdout"
        }
      ]
    },
    {
      "cell_type": "markdown",
      "metadata": {
        "id": "RUa6NgcDmOIq",
        "colab_type": "text"
      },
      "source": [
        "Converting from numpy array to torch tensor"
      ]
    },
    {
      "cell_type": "code",
      "metadata": {
        "id": "aC3_D2f0lPZF",
        "colab_type": "code",
        "outputId": "e43024fe-8213-4ae4-8ea3-aae6f39728f4",
        "colab": {
          "base_uri": "https://localhost:8080/",
          "height": 51
        }
      },
      "source": [
        "import numpy as np\n",
        "a = np.ones(5)\n",
        "b = torch.from_numpy(a)\n",
        "np.add(a, 1, out=a)\n",
        "print(a)\n",
        "print(b)"
      ],
      "execution_count": 40,
      "outputs": [
        {
          "output_type": "stream",
          "text": [
            "[2. 2. 2. 2. 2.]\n",
            "tensor([2., 2., 2., 2., 2.], dtype=torch.float64)\n"
          ],
          "name": "stdout"
        }
      ]
    },
    {
      "cell_type": "markdown",
      "metadata": {
        "id": "niY7xT9NmjqV",
        "colab_type": "text"
      },
      "source": [
        "# CUDA Tensor"
      ]
    },
    {
      "cell_type": "markdown",
      "metadata": {
        "id": "uDE4Wo0jmn42",
        "colab_type": "text"
      },
      "source": [
        "Use `.to()` function to move data to any device"
      ]
    },
    {
      "cell_type": "code",
      "metadata": {
        "id": "8gGKiAaZmlBT",
        "colab_type": "code",
        "outputId": "62400b98-be9a-41a0-c4a2-3713d6d367ca",
        "colab": {
          "base_uri": "https://localhost:8080/",
          "height": 51
        }
      },
      "source": [
        "if torch.cuda.is_available():\n",
        "  device = torch.device(\"cuda\")\n",
        "  y = torch.ones_like(x, device=device)\n",
        "  x = x.to(device)\n",
        "  z = x + y\n",
        "  print(z)\n",
        "  print(z.to(\"cpu\", torch.double))"
      ],
      "execution_count": 41,
      "outputs": [
        {
          "output_type": "stream",
          "text": [
            "tensor([1.4693], device='cuda:0')\n",
            "tensor([1.4693], dtype=torch.float64)\n"
          ],
          "name": "stdout"
        }
      ]
    }
  ]
}